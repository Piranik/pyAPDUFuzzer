{
 "cells": [
  {
   "cell_type": "code",
   "execution_count": 1,
   "metadata": {},
   "outputs": [],
   "source": [
    "import numpy as np\n",
    "import itertools\n",
    "import seaborn as sns\n",
    "import matplotlib as mpl\n",
    "import matplotlib.pyplot as plt\n",
    "import matplotlib.ticker as ticker\n",
    "import pandas as pd\n",
    "import collections\n",
    "import os\n",
    "from utils import resproc\n"
   ]
  },
  {
   "cell_type": "code",
   "execution_count": 5,
   "metadata": {},
   "outputs": [],
   "source": [
    "js=resproc.load_json('../experiments/xdat.json')"
   ]
  },
  {
   "cell_type": "code",
   "execution_count": 6,
   "metadata": {},
   "outputs": [],
   "source": [
    "dset = [resproc.merge_dicts([x['inp'], x['out'], x['misc'], \n",
    "                     {\n",
    "                         'data':x['inp']['data'], \n",
    "                         'status_c': int(x['out']['status'], 16),\n",
    "                         'time_b': int(x['misc']['timing'])\n",
    "                     }]) for x in js]\n",
    "\n",
    "dset = resproc.uniq(dset, lambda x: bytes(x['data']))"
   ]
  },
  {
   "cell_type": "code",
   "execution_count": 7,
   "metadata": {},
   "outputs": [],
   "source": [
    "dframe = pd.DataFrame(dset)\n"
   ]
  },
  {
   "cell_type": "code",
   "execution_count": 9,
   "metadata": {},
   "outputs": [
    {
     "name": "stderr",
     "output_type": "stream",
     "text": [
      "/Users/dusanklinec/workspace/APDUFuzzer/venv/lib/python3.6/site-packages/matplotlib/axes/_axes.py:6462: UserWarning: The 'normed' kwarg is deprecated, and has been replaced by the 'density' kwarg.\n",
      "  warnings.warn(\"The 'normed' kwarg is deprecated, and has been \"\n"
     ]
    },
    {
     "data": {
      "image/png": "[encoded data removed]",
      "text/plain": [
       "<Figure size 792x504 with 1 Axes>"
      ]
     },
     "metadata": {},
     "output_type": "display_data"
    }
   ],
   "source": [
    "fig, ax = plt.subplots(figsize=(11,7))\n",
    "#ax = sns.barplot(ax=ax, y='time_b', data=dframe, linewidth=0.5, errwidth=0)\n",
    "#ax = sns.distplot([x['time_b'] for x in dset], ax=ax, bins=range(1, 210, 10))\n",
    "ax = sns.distplot([x['status_c'] for x in dset], ax=ax)\n",
    "#ax.set_xlim([0, 200])\n"
   ]
  },
  {
   "cell_type": "code",
   "execution_count": null,
   "metadata": {},
   "outputs": [],
   "source": [
    "fnc = lambda x: x['status_str']\n",
    "fnc2 = lambda x: (x['status_str'], x['data'])\n",
    "\n",
    "dset.sort(key=fnc2)\n",
    "for g, k in itertools.groupby(dset, key=fnc):\n",
    "    kl = list(k)\n",
    "    print('%s: ln=%s' % (g, len(kl)))\n",
    "    print('\\n'.join([str(x['data']) for x in kl]))\n",
    "    \n"
   ]
  },
  {
   "cell_type": "code",
   "execution_count": 4,
   "metadata": {},
   "outputs": [
    {
     "name": "stdout",
     "output_type": "stream",
     "text": [
      "45402911\n",
      "45402911\n"
     ]
    }
   ],
   "source": []
  },
  {
   "cell_type": "code",
   "execution_count": null,
   "metadata": {},
   "outputs": [],
   "source": []
  },
  {
   "cell_type": "code",
   "execution_count": null,
   "metadata": {},
   "outputs": [],
   "source": []
  }
 ],
 "metadata": {
  "kernelspec": {
   "display_name": "Python 3",
   "language": "python",
   "name": "python3"
  },
  "language_info": {
   "codemirror_mode": {
    "name": "ipython",
    "version": 3
   },
   "file_extension": ".py",
   "mimetype": "text/x-python",
   "name": "python",
   "nbconvert_exporter": "python",
   "pygments_lexer": "ipython3",
   "version": "3.6.5"
  }
 },
 "nbformat": 4,
 "nbformat_minor": 1
}
